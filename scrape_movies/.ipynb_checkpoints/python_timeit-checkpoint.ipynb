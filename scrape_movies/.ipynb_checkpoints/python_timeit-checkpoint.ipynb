{
 "cells": [
  {
   "cell_type": "code",
   "execution_count": 1,
   "id": "670a6d15",
   "metadata": {},
   "outputs": [
    {
     "data": {
      "text/plain": [
       "0.027753832999991346"
      ]
     },
     "execution_count": 1,
     "metadata": {},
     "output_type": "execute_result"
    }
   ],
   "source": [
    "import timeit\n",
    "# 查看执行一百万次x=1语句的时间，number参数默认=1,000,000\n",
    "# 返回值是浮点数表示的秒数\n",
    "timeit.timeit('x=1')"
   ]
  },
  {
   "cell_type": "code",
   "execution_count": 2,
   "id": "1923d38c",
   "metadata": {},
   "outputs": [
    {
     "data": {
      "text/plain": [
       "8.330000014211691e-07"
      ]
     },
     "execution_count": 2,
     "metadata": {},
     "output_type": "execute_result"
    }
   ],
   "source": [
    "# 执行1次的时间\n",
    "timeit.timeit('x=1', number=1)"
   ]
  },
  {
   "cell_type": "code",
   "execution_count": 3,
   "id": "7c1e9b46",
   "metadata": {},
   "outputs": [
    {
     "data": {
      "text/plain": [
       "0.0011085419999972146"
      ]
     },
     "execution_count": 3,
     "metadata": {},
     "output_type": "execute_result"
    }
   ],
   "source": [
    "# 查看一个列表生成器的执行1次时间\n",
    "timeit.timeit('[i for i in range(10000)]', number=1)"
   ]
  }
 ],
 "metadata": {
  "kernelspec": {
   "display_name": "Python [conda env:root] *",
   "language": "python",
   "name": "conda-root-py"
  },
  "language_info": {
   "codemirror_mode": {
    "name": "ipython",
    "version": 3
   },
   "file_extension": ".py",
   "mimetype": "text/x-python",
   "name": "python",
   "nbconvert_exporter": "python",
   "pygments_lexer": "ipython3",
   "version": "3.8.8"
  }
 },
 "nbformat": 4,
 "nbformat_minor": 5
}
